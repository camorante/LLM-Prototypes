{
 "cells": [
  {
   "cell_type": "markdown",
   "id": "2814b656-17e1-4a0e-89b4-4543efa87cb9",
   "metadata": {},
   "source": [
    "# LLM Development - Retrieval Augmented Generation (RAG)\n",
    "\n",
    "![](images/llmsql2.jpg)"
   ]
  },
  {
   "cell_type": "markdown",
   "id": "4bd7b90e-c555-4a27-9e51-3a686139a77e",
   "metadata": {},
   "source": [
    "<h2 style=\"color:Blue\">Restart Kernel</h2>"
   ]
  },
  {
   "cell_type": "code",
   "execution_count": null,
   "id": "210cfd42-b08e-451e-82cb-3f6794984674",
   "metadata": {},
   "outputs": [],
   "source": [
    "import os\n",
    "os._exit(00)"
   ]
  },
  {
   "cell_type": "markdown",
   "id": "214ba98c-bfc7-4791-bcd0-ee46b22bb3f7",
   "metadata": {},
   "source": [
    "<h2 style=\"color:Blue\">General Imports</h2>"
   ]
  },
  {
   "cell_type": "code",
   "execution_count": 3,
   "id": "33917bad-7b16-4782-b498-a056ca96ca6c",
   "metadata": {},
   "outputs": [],
   "source": [
    "import bs4\n",
    "import os"
   ]
  },
  {
   "cell_type": "markdown",
   "id": "c4624531-a6d2-4309-a207-5142be42346e",
   "metadata": {},
   "source": [
    "<h2 style=\"color:Blue\">Langchain Imports</h2>"
   ]
  },
  {
   "cell_type": "code",
   "execution_count": 4,
   "id": "ccc13c3d-5aa6-4448-8aed-3f61b272f3cd",
   "metadata": {},
   "outputs": [],
   "source": [
    "from langchain import hub\n",
    "from langchain_chroma import Chroma\n",
    "from langchain_community.document_loaders import WebBaseLoader, DirectoryLoader, TextLoader\n",
    "from langchain_core.prompts import ChatPromptTemplate\n",
    "from langchain_core.output_parsers import StrOutputParser, JsonOutputParser\n",
    "from langchain_core.runnables import RunnablePassthrough\n",
    "from langchain_openai import OpenAIEmbeddings\n",
    "from langchain_ollama import OllamaEmbeddings\n",
    "from langchain_text_splitters import RecursiveCharacterTextSplitter\n",
    "from langchain_ollama import ChatOllama\n",
    "from langchain_openai import ChatOpenAI\n",
    "from langchain_core.prompts import PromptTemplate"
   ]
  },
  {
   "cell_type": "markdown",
   "id": "35bb1677-4204-4650-b703-da857b8ea611",
   "metadata": {},
   "source": [
    "<h2 style=\"color:Blue\">Pre-Loadings</h2>"
   ]
  },
  {
   "cell_type": "markdown",
   "id": "379b1b7f-e79f-41d9-9ec0-bf3d1d00b2fd",
   "metadata": {},
   "source": [
    "<h3 style=\"color:Green\">Question and Vars</h3>"
   ]
  },
  {
   "cell_type": "markdown",
   "id": "dadfd950-44b5-4242-ab0b-f3fb9f8b7a76",
   "metadata": {},
   "source": [
    "Question: Ask your question\n",
    "\n",
    "Model ID\n",
    "- Model 1: hf.co/nomic-ai/nomic-embed-text-v1.5-GGUF:Q6_K\n",
    "- Model 2: mistral-nemo:latest\n",
    "- Model 3: codestral:latest\n",
    "- Model 4: gpt-4o-mini\n",
    "- Model 5: qwen:14b\n",
    "- \n",
    "keep alive: Number of seconds that the model will be kept alive in memory\n",
    "\n",
    "num_predict: prediction tokens"
   ]
  },
  {
   "cell_type": "code",
   "execution_count": 5,
   "id": "4162b7c9-9609-4410-8cd6-d3a39107f7b1",
   "metadata": {},
   "outputs": [],
   "source": [
    "question = \"Que contiene el Megacombo Galáctico?\"\n",
    "rag_model_id = 2\n",
    "temperature = 0\n",
    "keep_alive = 250\n",
    "num_predict = 256"
   ]
  },
  {
   "cell_type": "markdown",
   "id": "10909e75-7e37-4dc7-bc7a-77942245fd29",
   "metadata": {},
   "source": [
    "<h3 style=\"color:Green\">Model Selection</h3>"
   ]
  },
  {
   "cell_type": "code",
   "execution_count": 6,
   "id": "ba5dac24-9f7c-4820-87e2-5da319dacf6f",
   "metadata": {},
   "outputs": [],
   "source": [
    "def get_model(id):\n",
    "    if id == 1:\n",
    "        return (\"hf.co/SanctumAI/Meta-Llama-3.1-8B-Instruct-GGUF:Q6_K\", \"OllamaEmbeddings\")\n",
    "    elif id == 2:\n",
    "        return (\"mistral-nemo:latest\", \"OllamaEmbeddings\")\n",
    "    elif id == 3:\n",
    "        return (\"codestral:latest\", \"OllamaEmbeddings\")\n",
    "    elif id == 4:\n",
    "        return (\"gpt-4o-mini\", \"OpenAIEmbeddings\")\n",
    "    elif id == 5:\n",
    "        return (\"qwen:14b\", \"OllamaEmbeddings\")"
   ]
  },
  {
   "cell_type": "code",
   "execution_count": 7,
   "id": "eaed4bb6-ecd8-4479-b717-85ba74e1b149",
   "metadata": {},
   "outputs": [
    {
     "name": "stdout",
     "output_type": "stream",
     "text": [
      "RAG Model Selected: mistral-nemo:latest\n",
      "RAG Embedding Selected: OllamaEmbeddings\n"
     ]
    }
   ],
   "source": [
    "rag_model = get_model(rag_model_id)[0]\n",
    "rag_embedding = get_model(rag_model_id)[1]\n",
    "\n",
    "print(\"RAG Model Selected:\", rag_model)\n",
    "print(\"RAG Embedding Selected:\", rag_embedding)"
   ]
  },
  {
   "cell_type": "markdown",
   "id": "b9573d9b-4d55-4538-a106-e5c7b63bb097",
   "metadata": {},
   "source": [
    "<h3 style=\"color:Green\">Keys</h3>"
   ]
  },
  {
   "cell_type": "code",
   "execution_count": 8,
   "id": "c22b75f8-fd14-4b92-89c2-07c6b003d155",
   "metadata": {},
   "outputs": [],
   "source": [
    "key = open(\"key.txt\", \"r\")\n",
    "os.environ[\"OPENAI_API_KEY\"] = key.read()\n",
    "key.close()\n",
    "\n",
    "key = open(\"keyls.txt\", \"r\")\n",
    "#os.environ[\"LANGCHAIN_PROJECT\"] = \"gpstrackit-dev\"\n",
    "os.environ[\"LANGCHAIN_ENDPOINT\"] = \"https://api.smith.langchain.com\"\n",
    "os.environ[\"LANGCHAIN_TRACING_V2\"] = \"true\"\n",
    "os.environ[\"LANGCHAIN_API_KEY\"] = key.read()\n",
    "key.close()"
   ]
  },
  {
   "cell_type": "markdown",
   "id": "06beddd3-5049-42f6-abe5-cf5de554755e",
   "metadata": {},
   "source": [
    "<h3 style=\"color:Green\">LLM Instance</h3>"
   ]
  },
  {
   "cell_type": "code",
   "execution_count": 9,
   "id": "78fef30e-e921-4b52-b0a2-ee00f2b884ea",
   "metadata": {},
   "outputs": [
    {
     "data": {
      "text/plain": [
       "ChatOllama(model='mistral-nemo:latest', num_predict=256, temperature=0.0, keep_alive=250)"
      ]
     },
     "execution_count": 9,
     "metadata": {},
     "output_type": "execute_result"
    }
   ],
   "source": [
    "if rag_model_id == 4:\n",
    "    llm = ChatOpenAI(model=get_model(rag_model_id)[0], temperature = temperature)\n",
    "else: \n",
    "    llm = ChatOllama(model=get_model(rag_model_id)[0], num_predict = num_predict, keep_alive = keep_alive, temperature = temperature)\n",
    "llm"
   ]
  },
  {
   "cell_type": "markdown",
   "id": "ee47e3e5-2b1e-4f38-b11d-6120cdc54a8b",
   "metadata": {},
   "source": [
    "<h3 style=\"color:Green\">Embeddings</h3>"
   ]
  },
  {
   "cell_type": "code",
   "execution_count": 10,
   "id": "32efdf13-c17d-4926-a1ce-cfa0c379e504",
   "metadata": {},
   "outputs": [
    {
     "data": {
      "text/plain": [
       "OllamaEmbeddings(model='hf.co/nomic-ai/nomic-embed-text-v1.5-GGUF:Q6_K', base_url=None, client_kwargs={})"
      ]
     },
     "execution_count": 10,
     "metadata": {},
     "output_type": "execute_result"
    }
   ],
   "source": [
    "if rag_embedding == 'OllamaEmbeddings':\n",
    "    embeddings = OllamaEmbeddings(\n",
    "        model=\"hf.co/nomic-ai/nomic-embed-text-v1.5-GGUF:Q6_K\",\n",
    "    )\n",
    "elif rag_embedding == 'OpenAIEmbeddings':\n",
    "    embeddings = OpenAIEmbeddings()\n",
    "\n",
    "embeddings"
   ]
  },
  {
   "cell_type": "markdown",
   "id": "2c2f2556-8145-4223-81be-dcdf95c1f144",
   "metadata": {},
   "source": [
    "<h2 style=\"color:Blue\">Prompt Execs</h2>"
   ]
  },
  {
   "cell_type": "markdown",
   "id": "3d5280df-d160-4baa-a80b-e6dbcc97e9c1",
   "metadata": {},
   "source": [
    "<h3 style=\"color:Green\">Loaders</h3>"
   ]
  },
  {
   "cell_type": "code",
   "execution_count": 11,
   "id": "7b79c831-d9ff-4cf4-8b1d-9edab895e29b",
   "metadata": {},
   "outputs": [],
   "source": [
    "web_loader = WebBaseLoader(\n",
    "    web_paths=(\"https://lavidaesunvideojuego.com/2024/11/07/la-gran-oscuridad-ha-llegado-a-hearthstone/\",\n",
    "              \"https://lavidaesunvideojuego.com/2024/09/05/tips-para-tu-primer-ano-en-stardew-valley/\",),\n",
    "    bs_kwargs=dict(\n",
    "        parse_only=bs4.SoupStrainer(\n",
    "            class_=(\"post-content\", \"post-title\", \"post-header\")\n",
    "        )\n",
    "    ),\n",
    ")\n",
    "web_documents = web_loader.load()\n",
    "\n",
    "text_loader_kwargs={'autodetect_encoding': True}\n",
    "text_loader = DirectoryLoader(\"./\", glob=\"docs/*.txt\", loader_cls=TextLoader, loader_kwargs=text_loader_kwargs)\n",
    "text_documents = text_loader.load()\n",
    "\n",
    "all_documents = web_documents + text_documents\n",
    "text_splitter = RecursiveCharacterTextSplitter(chunk_size=1000, chunk_overlap=200)\n",
    "all_splits = text_splitter.split_documents(all_documents)"
   ]
  },
  {
   "cell_type": "markdown",
   "id": "438406e8-27a9-4927-b450-c7bbe9d4b6c2",
   "metadata": {},
   "source": [
    "<h3 style=\"color:Green\">Vector Store</h3>"
   ]
  },
  {
   "cell_type": "code",
   "execution_count": 12,
   "id": "1f752eee-8ad0-4f47-96c1-1981c117dbfa",
   "metadata": {},
   "outputs": [],
   "source": [
    "vectorstore = Chroma.from_documents(documents=all_splits, embedding=embeddings)"
   ]
  },
  {
   "cell_type": "code",
   "execution_count": 13,
   "id": "0b50cf19-1e05-4c82-808b-b9cdba497e9d",
   "metadata": {},
   "outputs": [],
   "source": [
    "retriever = vectorstore.as_retriever(search_type=\"similarity\", search_kwargs={\"k\": 6})"
   ]
  },
  {
   "cell_type": "markdown",
   "id": "2fd12018-35c6-4c3e-bfce-95eb3f4dda00",
   "metadata": {},
   "source": [
    "<h3 style=\"color:Green\">Test Retriever</h3>"
   ]
  },
  {
   "cell_type": "code",
   "execution_count": 14,
   "id": "03f3429c-8cc4-4bd3-8f84-53bff49a24d0",
   "metadata": {},
   "outputs": [
    {
     "name": "stdout",
     "output_type": "stream",
     "text": [
      "6\n",
      "Esta nueva expansiÃ³n se presenta en dos versiones, la primera, el Megacombo GalÃ¡ctico, que es como la ediciÃ³n de lujo:\n",
      "\n",
      "*80 sobres de cartas\n",
      "*10 sobres de cartas doradas\n",
      "*1 carta insignia legendaria aleatoria\n",
      "*1 carta legendaria dorada aleatoria\n",
      "*6 entradas para la Arena\n",
      "*El dorso de carta y el diseÃ±o de hÃ©roe Sacerdote de Profeta Velen.\n",
      "\n",
      "Y la opciÃ³n mÃ¡s casual, el Combo Estelar:\n",
      "\n",
      "*60 sobres de cartas\n",
      "*2 cartas legendarias aleatorias\n",
      "*El dorso de carta de Profeta Velen\n"
     ]
    }
   ],
   "source": [
    "retrieved_docs = retriever.invoke(question)\n",
    "print(len(retrieved_docs))\n",
    "print(retrieved_docs[0].page_content)"
   ]
  },
  {
   "cell_type": "markdown",
   "id": "3d66d24a-4608-4a5e-b5a3-f71c72c857e9",
   "metadata": {},
   "source": [
    "<h2 style=\"color:Blue\">Prompts Execs</h2>"
   ]
  },
  {
   "cell_type": "markdown",
   "id": "8de43459-b4c1-447f-a1eb-39f26a97f07a",
   "metadata": {},
   "source": [
    "<h3 style=\"color:Green\">Prompt Orders</h3>"
   ]
  },
  {
   "cell_type": "code",
   "execution_count": 17,
   "id": "69e7ae4d-50fc-4313-aaf3-503293913996",
   "metadata": {},
   "outputs": [],
   "source": [
    "prompt = hub.pull(\"rlm/rag-prompt\")\n",
    "question = \"quien es Ferhan Sakal?\""
   ]
  },
  {
   "cell_type": "markdown",
   "id": "709a7e99-54ad-4a04-8fa5-60a77f11a32a",
   "metadata": {},
   "source": [
    "<h3 style=\"color:Green\">Exec And Results</h3>"
   ]
  },
  {
   "cell_type": "code",
   "execution_count": 18,
   "id": "baaf2d33-0701-4f82-9da7-fe0f4f595068",
   "metadata": {},
   "outputs": [
    {
     "name": "stdout",
     "output_type": "stream",
     "text": [
      "Ferhan Sakal es el jefe de excavación y gestión de sitios arqueológicos de los Museos de Qatar. Es experto en arte rupestre y ha afirmado que algunas tallas en Al Jassasiya son únicas y no se pueden encontrar en ningún otro lugar."
     ]
    }
   ],
   "source": [
    "def format_docs(docs):\n",
    "    return \"\\n\\n\".join(doc.page_content for doc in docs)\n",
    "\n",
    "rag_chain = (\n",
    "    {\"context\": retriever | format_docs, \"question\": RunnablePassthrough()}\n",
    "    | prompt\n",
    "    | llm.bind(stop = [\"Answer:\", \"<|im_end|>\"])\n",
    "    | StrOutputParser()\n",
    ")\n",
    "\n",
    "for chunk in rag_chain.stream(question):\n",
    "    print(chunk, end=\"\", flush=True)"
   ]
  },
  {
   "cell_type": "code",
   "execution_count": null,
   "id": "eba0603f-95bc-4084-bdda-b2686a7e4380",
   "metadata": {},
   "outputs": [],
   "source": []
  },
  {
   "cell_type": "code",
   "execution_count": null,
   "id": "0b921fee-f5fa-41a5-b037-0baa218b1175",
   "metadata": {},
   "outputs": [],
   "source": []
  }
 ],
 "metadata": {
  "kernelspec": {
   "display_name": "Python 3 (ipykernel)",
   "language": "python",
   "name": "python3"
  },
  "language_info": {
   "codemirror_mode": {
    "name": "ipython",
    "version": 3
   },
   "file_extension": ".py",
   "mimetype": "text/x-python",
   "name": "python",
   "nbconvert_exporter": "python",
   "pygments_lexer": "ipython3",
   "version": "3.10.8"
  }
 },
 "nbformat": 4,
 "nbformat_minor": 5
}
